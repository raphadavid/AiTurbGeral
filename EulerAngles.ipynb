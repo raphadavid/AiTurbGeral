{
 "cells": [
  {
   "cell_type": "code",
   "execution_count": 1,
   "metadata": {
    "collapsed": true
   },
   "outputs": [],
   "source": [
    "import numpy as np"
   ]
  },
  {
   "cell_type": "code",
   "execution_count": 2,
   "metadata": {
    "collapsed": true
   },
   "outputs": [],
   "source": [
    "a=np.array([[1,0,0],[0,1,0],[0,0,1]])\n",
    "b=np.array([[1,1,-1],[-2,1,0],[1,1,1]])"
   ]
  },
  {
   "cell_type": "code",
   "execution_count": 3,
   "metadata": {
    "collapsed": false
   },
   "outputs": [
    {
     "data": {
      "text/plain": [
       "1.7320508075688772"
      ]
     },
     "execution_count": 3,
     "metadata": {},
     "output_type": "execute_result"
    }
   ],
   "source": [
    "c=np.array([1,1,1])\n",
    "np.linalg.norm(c)"
   ]
  },
  {
   "cell_type": "code",
   "execution_count": 16,
   "metadata": {
    "collapsed": false
   },
   "outputs": [],
   "source": [
    "def eulerangles(x,y):\n",
    "    #euler angles \"x-convection\"\n",
    "    SMALL=1e-20\n",
    "    #N = z x Z\n",
    "    N=np.array([x[1,2]*y[2,2]-x[2,2]*y[1,2],\n",
    "                x[0,2]*y[2,2]+x[2,2]*y[0,2],\n",
    "               x[0,2]*y[1,2]-x[1,2]*y[0,2]])\n",
    "    alpha=np.arccos((N.dot(x[:,2]))/(np.linalg.norm(x[:,2])*np.linalg.norm(N)\n",
    "                                     +SMALL)) #angle between the x axis and the N axis.\n",
    "    beta=np.arccos((x[:,2].dot(y[:,2]))/(np.linalg.norm(x[:,2])*np.linalg.norm(y[:,2])\n",
    "                                         +SMALL)) #angle between the z axis and the Z axis\n",
    "    gamma=np.arccos((y[:,2].dot(N))/(np.linalg.norm(y[:,2])*np.linalg.norm(N)\n",
    "                                     +SMALL)) #angle between the N axis and the X axis\n",
    "    return np.array([alpha,beta,gamma])\n",
    "def eulerrotations(alfa,beta,gamma,base):\n",
    "    SMALL=1e-20\n",
    "    A=np.array([[np.cos(alfa),np.sin(alfa),0],[-np.sin(alfa),np.cos(alfa),0],[0,0,1]])\n",
    "    B=np.array([[1,0,0],[0,np.cos(beta),np.sin(beta)],[0,-np.sin(beta),np.cos(alfa)]])\n",
    "    C=np.array([[np.cos(gamma),np.sin(gamma),0],[-np.sin(gamma),np.cos(gamma),0],[0,0,1]])\n",
    "    CB=np.einsum('ij,jk->ik', C, B)\n",
    "    CBA=np.einsum('ij,jk->ik', CB, A)\n",
    "    QBase=np.einsum('ij,jk->ik', CBA, base)\n",
    "    QBaseQT=np.einsum('ij,jk->ik', QBase, np.transpose(CBA))\n",
    "    return QBaseQT"
   ]
  },
  {
   "cell_type": "code",
   "execution_count": 14,
   "metadata": {
    "collapsed": false
   },
   "outputs": [
    {
     "data": {
      "text/plain": [
       "array([ 1.57079633,  0.78539816,  1.57079633])"
      ]
     },
     "execution_count": 14,
     "metadata": {},
     "output_type": "execute_result"
    }
   ],
   "source": [
    "eulerangles(a,b)"
   ]
  },
  {
   "cell_type": "code",
   "execution_count": 11,
   "metadata": {
    "collapsed": true
   },
   "outputs": [],
   "source": [
    "c=np.array([[1,0,0],[0,1,0],[0,0,1]])\n",
    "d=np.array([[1,1,-1],[-2,1,0],[1,1,1]])\n",
    "e=np.array([[1,0,0],[0,1,0],[0,0,1]])"
   ]
  },
  {
   "cell_type": "code",
   "execution_count": 19,
   "metadata": {
    "collapsed": false
   },
   "outputs": [
    {
     "data": {
      "text/plain": [
       "array([[  1.00000000e+00,   0.00000000e+00,  -5.00000000e-01],\n",
       "       [  0.00000000e+00,   1.00000000e+00,  -3.06161700e-17],\n",
       "       [ -5.00000000e-01,  -3.06161700e-17,   5.00000000e-01]])"
      ]
     },
     "execution_count": 19,
     "metadata": {},
     "output_type": "execute_result"
    }
   ],
   "source": [
    "eulerrotations(eulerangles(a,b)[0],eulerangles(a,b)[1],eulerangles(a,b)[2],a)"
   ]
  },
  {
   "cell_type": "code",
   "execution_count": null,
   "metadata": {
    "collapsed": true
   },
   "outputs": [],
   "source": []
  }
 ],
 "metadata": {
  "kernelspec": {
   "display_name": "Python [conda root]",
   "language": "python",
   "name": "conda-root-py"
  },
  "language_info": {
   "codemirror_mode": {
    "name": "ipython",
    "version": 3
   },
   "file_extension": ".py",
   "mimetype": "text/x-python",
   "name": "python",
   "nbconvert_exporter": "python",
   "pygments_lexer": "ipython3",
   "version": "3.5.2"
  }
 },
 "nbformat": 4,
 "nbformat_minor": 2
}
