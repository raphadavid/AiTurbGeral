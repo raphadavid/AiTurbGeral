{
 "cells": [
  {
   "cell_type": "code",
   "execution_count": 157,
   "metadata": {
    "collapsed": false
   },
   "outputs": [],
   "source": [
    "import numpy as np\n",
    "import pandas as pd\n",
    "from math import *\n",
    "import random\n",
    "with open('malha_60_60_362_re7500_RANS_periodic', \"r\") as f:\n",
    "    lines = random.sample(f.readlines(),100)\n",
    "for line in lines:\n",
    "    cleanedLine = line.strip()\n",
    "    if cleanedLine: # is not empty\n",
    "        file=np.loadtxt(lines,comments=\"#\")"
   ]
  },
  {
   "cell_type": "code",
   "execution_count": 201,
   "metadata": {
    "collapsed": false
   },
   "outputs": [],
   "source": [
    "Position=np.array((file[:,1],file[:,2],file[:,3])).transpose()\n",
    "Vel=np.array((file[:,5],file[:,6],file[:,7])).transpose()\n",
    "P=file[:,4]\n",
    "GradVel=np.transpose(np.array([[file[:,17],file[:,18],file[:,19]],\n",
    "                  [file[:,20],file[:,22],file[:,21]],\n",
    "                  [file[:,23],file[:,24],file[:,25]]]),(2,0,1))\n",
    "GradP = np.array((file[:,26],file[:,27],file[:,28])).transpose()\n",
    "HessP = np.transpose(np.array([[file[:,17],file[:,18],file[:,19]],\n",
    "                [file[:,20],file[:,21],file[:,22]],\n",
    "                [file[:,23],file[:,24],file[:,25]]]),(2,0,1))\n",
    "ReStress=np.transpose(np.array([[file[:,8],file[:,11],file[:,13]],\n",
    "                   [file[:,11],file[:,9],file[:,12]],\n",
    "                   [file[:,13],file[:,12],file[:,10]]]),(2,0,1))\n",
    "K=file[:,14]\n",
    "Eps=file[:,15]\n",
    "TurbVisc=file[:,16]\n",
    "D=GradVel+np.transpose(GradVel,(0,2,1))\n",
    "W=GradVel-np.transpose(GradVel,(0,2,1))\n",
    "A,B,C,E=D.shape[0],D.shape[1],D.shape[2],np.transpose(D,(0,2,1)).shape[2]\n",
    "DDT=np.einsum('abc,ace->abe', D, np.transpose(D,(0,2,1)))\n",
    "DDT=np.sqrt(np.trace(DDT,axis1=1,axis2=2))\n",
    "U,X,Y,Z=W.shape[0],W.shape[1],W.shape[2],np.transpose(W,(0,2,1)).shape[2]\n",
    "WWT=np.einsum('vux,vxz->vuz', W, np.transpose(W,(0,2,1)))\n",
    "WWT=np.sqrt(np.trace(WWT,axis1=1,axis2=2))\n",
    "DD=np.einsum('abc,ace->abe', D, D)\n",
    "WW=np.einsum('vux,vxz->vuz', W, W)\n",
    "lambda_DDWW,Q_DDWW=np.linalg.eigh(WW+DD)\n",
    "VeldPdx=np.einsum('ab,ab->ab', Vel, GradP)\n",
    "dPdx2Vel2=np.einsum('xy,xv->x', np.power(GradP[:,0],2), np.power(Vel[:,0],2))"
   ]
  },
  {
   "cell_type": "code",
   "execution_count": 202,
   "metadata": {
    "collapsed": false
   },
   "outputs": [],
   "source": [
    "Q=((1/(pi))*np.arccos((np.power(WWT,2)-(np.power(DDT,2)))/(np.power(WWT,2)+(np.power(DDT,2)))))\n",
    "Delta=((1/(pi))*np.arccos((np.power((np.power(WWT,2)-(np.power(DDT,2))),3)+np.linalg.det(GradVel))\n",
    "                          /(np.power((np.power(WWT,2)-(np.power(DDT,2))),3)+np.linalg.det(GradVel))))\n",
    "Lambda2=1-(1/pi)*np.arccos((np.trace(WW+DD,axis1=1,axis2=2)-lambda_DDWW[:,0]-lambda_DDWW[:,2])\n",
    "                           /(np.trace(DD,axis1=1,axis2=2)-lambda_DDWW[:,0]-lambda_DDWW[:,2]))"
   ]
  },
  {
   "cell_type": "code",
   "execution_count": 210,
   "metadata": {
    "collapsed": false
   },
   "outputs": [
    {
     "name": "stderr",
     "output_type": "stream",
     "text": [
      "C:\\WinPython-64bit-3.5.2.4Qt5b3\\python-3.5.2.amd64\\lib\\site-packages\\ipykernel\\__main__.py:4: RuntimeWarning: invalid value encountered in sqrt\n",
      "C:\\WinPython-64bit-3.5.2.4Qt5b3\\python-3.5.2.amd64\\lib\\site-packages\\ipykernel\\__main__.py:4: RuntimeWarning: invalid value encountered in minimum\n"
     ]
    }
   ],
   "source": [
    "kTurbNorm=K/(0.5*(np.power(Vel[:,0],2)+np.power(Vel[:,1],2)+np.power(Vel[:,2],2))+K) #verificar\n",
    "nu=0.001\n",
    "dturb=1\n",
    "ReTurb=np.minimum(((np.sqrt(K)*dturb)/(50*nu)),2.) #Turbulence Reynolds number\n",
    "PgradSL=VeldPdx/(np.sqrt(dPdx2Vel2)+np.abs(VeldPdx))"
   ]
  },
  {
   "cell_type": "code",
   "execution_count": 216,
   "metadata": {
    "collapsed": false
   },
   "outputs": [
    {
     "data": {
      "text/plain": [
       "array([ -3.86294001e-03,   4.97130211e-03,   2.32857037e-02,\n",
       "         2.84252083e-03,  -7.35834567e-03,  -2.79254373e-02,\n",
       "        -4.68136219e-04,  -5.58078500e-05,   3.13225994e-03,\n",
       "        -1.34747131e-02,  -7.32477929e-04,  -3.00878752e-02,\n",
       "        -2.64833514e-02,   6.84024161e-03,  -1.67661663e-02,\n",
       "         5.56316413e-03,  -2.95899864e-02,   3.66655574e-03,\n",
       "        -3.23541765e-03,   2.00613681e-02,  -8.13557394e-03,\n",
       "        -1.42444465e-02,  -4.45215916e-03,  -2.78652529e-04,\n",
       "        -7.31751672e-04,  -2.64698546e-02,  -8.93263426e-03,\n",
       "         2.79698353e-02,   2.53555812e-02,   6.43681455e-03,\n",
       "         1.93733797e-02,  -4.13455954e-03,   2.84419674e-03,\n",
       "        -3.39102844e-04,   9.40558908e-04,   1.32009527e-02,\n",
       "        -2.37218551e-02,   4.81088553e-03,   1.24350900e-03,\n",
       "        -7.63573823e-03,   6.50910335e-03,   1.80136121e-04,\n",
       "         1.56341959e-02,  -1.56788863e-02,   3.40448949e-03,\n",
       "         1.58833072e-03,   6.69810316e-03,   3.87636828e-03,\n",
       "        -9.88314045e-04,  -1.24514889e-04,   7.13684410e-03,\n",
       "         1.03283037e-05,   2.89946050e-03,   6.12374133e-05,\n",
       "        -4.14316446e-06,   1.95076296e-04,  -5.97611943e-04,\n",
       "         2.83242334e-02,   3.49626946e-03,  -7.27424107e-04,\n",
       "         8.78501742e-04,  -1.06468750e-03,   5.69388550e-03,\n",
       "        -6.15275232e-03,  -2.19116948e-04,  -3.02549521e-03,\n",
       "         7.66374142e-05,  -1.64131750e-03,  -8.80129449e-03,\n",
       "        -9.71033238e-04,   1.90313542e-04,  -2.51910696e-03,\n",
       "         2.42130947e-03,  -6.40562642e-03,   4.66634659e-03,\n",
       "        -1.72702814e-04,   1.49033992e-02,  -2.10142918e-02,\n",
       "         1.74184062e-03,   2.00415514e-02,   7.43125100e-03,\n",
       "        -2.55475100e-03,   2.00496567e-03,   2.16657687e-02,\n",
       "         3.79352132e-03,  -2.50735767e-02,  -8.23875962e-06,\n",
       "        -5.69474371e-03,  -7.68415956e-03,  -7.63231097e-03,\n",
       "         7.42742885e-03,  -2.54320237e-03,  -6.08547824e-03,\n",
       "        -2.67071109e-02,  -3.98012251e-03,  -8.29358213e-03,\n",
       "         1.69274586e-04,   2.42698062e-02,   5.41377906e-03,\n",
       "         7.73534225e-03])"
      ]
     },
     "execution_count": 216,
     "metadata": {},
     "output_type": "execute_result"
    }
   ],
   "source": [
    "file[:,34]"
   ]
  },
  {
   "cell_type": "code",
   "execution_count": null,
   "metadata": {
    "collapsed": true
   },
   "outputs": [],
   "source": []
  }
 ],
 "metadata": {
  "kernelspec": {
   "display_name": "Python [default]",
   "language": "python",
   "name": "python3"
  },
  "language_info": {
   "codemirror_mode": {
    "name": "ipython",
    "version": 3
   },
   "file_extension": ".py",
   "mimetype": "text/x-python",
   "name": "python",
   "nbconvert_exporter": "python",
   "pygments_lexer": "ipython3",
   "version": "3.5.2"
  }
 },
 "nbformat": 4,
 "nbformat_minor": 2
}
