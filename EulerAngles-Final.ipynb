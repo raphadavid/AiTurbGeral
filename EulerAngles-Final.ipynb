{
 "cells": [
  {
   "cell_type": "code",
   "execution_count": 2,
   "metadata": {
    "collapsed": true,
    "deletable": true,
    "editable": true
   },
   "outputs": [],
   "source": [
    "import numpy as np\n",
    "from numpy import linalg as LA"
   ]
  },
  {
   "cell_type": "code",
   "execution_count": 124,
   "metadata": {
    "collapsed": true,
    "deletable": true,
    "editable": true
   },
   "outputs": [],
   "source": [
    "a=np.array([[1,0,0],\n",
    "            [0,1,0],\n",
    "            [0,0,1]])\n",
    "b=np.array([[1,1,-1],\n",
    "            [-2,1,0],\n",
    "            [1,1,1]])"
   ]
  },
  {
   "cell_type": "code",
   "execution_count": 133,
   "metadata": {
    "collapsed": false,
    "deletable": true,
    "editable": true
   },
   "outputs": [],
   "source": [
    "def eulerangles(x,string):\n",
    "    #euler angles \"x-convection\" based on cartesian local system\n",
    "    SMALL=1e-16\n",
    "    #Xl = Z1 x Z\n",
    "    #normalizing\n",
    "    x=np.array([[x[0,0]/LA.norm(x[:,0]),x[0,1]/LA.norm(x[:,1]),x[0,2]/LA.norm(x[:,2])],\n",
    "                [x[1,0]/LA.norm(x[:,0]),x[1,1]/LA.norm(x[:,1]),x[1,2]/LA.norm(x[:,2])],\n",
    "                [x[2,0]/LA.norm(x[:,0]),x[2,1]/LA.norm(x[:,1]),x[2,2]/LA.norm(x[:,2])]])\n",
    "    Xl=np.array([x[1,2],-x[0,2],0])\n",
    "    #X1’x = X’·X1 = X’x ·X1x + X’y ·X1y + X’z ·X1z = Z1y ·X1x – Z1x ·X1y\n",
    "    X1lx=np.einsum('i,i->', Xl, x[:,0])\n",
    "    X1ly=np.einsum('i,i->', Xl, x[:,1])\n",
    "    Z1xy=np.array([x[0,2],x[1,2],0])\n",
    "    Z1xy=LA.norm(Z1xy)\n",
    "    if Z1xy>SMALL:\n",
    "        alpha=np.arctan2(X1ly, X1lx)\n",
    "        beta=np.arctan2(Z1xy,x[2,2])\n",
    "        gamma=-1.*np.arctan2(-x[0,2],x[1,2])\n",
    "    else:\n",
    "        alpha=0.\n",
    "        if np.abs(x[2,2])>SMALL:\n",
    "            beta=0.\n",
    "        else:\n",
    "            beta=np.pi\n",
    "        gamma=-1.*np.arctan2(X1ly, X1lx)\n",
    "    if string=='graus':\n",
    "        return np.array([alpha,beta,gamma])*360/(2*np.pi)\n",
    "    else:\n",
    "        return np.array([alpha,beta,gamma])\n",
    "def eulerrotations(alfa,beta,gamma,base):\n",
    "    A=np.array([[np.cos(alfa),np.sin(alfa),0],[-np.sin(alfa),np.cos(alfa),0],[0,0,1]])\n",
    "    B=np.array([[1,0,0],[0,np.cos(beta),np.sin(beta)],[0,-np.sin(beta),np.cos(beta)]])\n",
    "    C=np.array([[np.cos(gamma),np.sin(gamma),0],[-np.sin(gamma),np.cos(gamma),0],[0,0,1]])\n",
    "    CB=np.einsum('ij,jk->ik', C, B)\n",
    "    CBA=np.einsum('ij,jk->ik', CB, A)\n",
    "    QBase=np.einsum('ij,jk->ik', CBA, base)\n",
    "    return QBase"
   ]
  },
  {
   "cell_type": "code",
   "execution_count": 134,
   "metadata": {
    "collapsed": false,
    "deletable": true,
    "editable": true
   },
   "outputs": [
    {
     "data": {
      "text/plain": [
       "array([ 144.73561032,   45.        ,  -90.        ])"
      ]
     },
     "execution_count": 134,
     "metadata": {},
     "output_type": "execute_result"
    }
   ],
   "source": [
    "eulerangles(b,'graus')"
   ]
  },
  {
   "cell_type": "code",
   "execution_count": 135,
   "metadata": {
    "collapsed": false,
    "deletable": true,
    "editable": true
   },
   "outputs": [
    {
     "data": {
      "text/plain": [
       "array([[  4.08248290e-01,   5.77350269e-01,  -7.07106781e-01],\n",
       "       [ -8.16496581e-01,   5.77350269e-01,   4.32978028e-17],\n",
       "       [  4.08248290e-01,   5.77350269e-01,   7.07106781e-01]])"
      ]
     },
     "execution_count": 135,
     "metadata": {},
     "output_type": "execute_result"
    }
   ],
   "source": [
    "eulerrotations(eulerangles(b,'rad')[0],eulerangles(b,'rad')[1],eulerangles(b,'rad')[2],a)"
   ]
  },
  {
   "cell_type": "code",
   "execution_count": 136,
   "metadata": {
    "collapsed": false
   },
   "outputs": [
    {
     "data": {
      "text/plain": [
       "array([[ 0.14644661,  0.85355339,  0.5       ],\n",
       "       [-0.85355339, -0.14644661,  0.5       ],\n",
       "       [ 0.5       , -0.5       ,  0.70710678]])"
      ]
     },
     "execution_count": 136,
     "metadata": {},
     "output_type": "execute_result"
    }
   ],
   "source": [
    "eulerrotations(np.pi/4,np.pi/4,np.pi/4,a)"
   ]
  },
  {
   "cell_type": "code",
   "execution_count": null,
   "metadata": {
    "collapsed": true
   },
   "outputs": [],
   "source": []
  }
 ],
 "metadata": {
  "anaconda-cloud": {},
  "kernelspec": {
   "display_name": "Python [conda root]",
   "language": "python",
   "name": "conda-root-py"
  },
  "language_info": {
   "codemirror_mode": {
    "name": "ipython",
    "version": 3
   },
   "file_extension": ".py",
   "mimetype": "text/x-python",
   "name": "python",
   "nbconvert_exporter": "python",
   "pygments_lexer": "ipython3",
   "version": "3.5.3"
  }
 },
 "nbformat": 4,
 "nbformat_minor": 2
}
