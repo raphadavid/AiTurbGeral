{
 "cells": [
  {
   "cell_type": "code",
   "execution_count": 1,
   "metadata": {
    "collapsed": false,
    "deletable": true,
    "editable": true
   },
   "outputs": [],
   "source": [
    "import numpy as np\n",
    "import pandas as pd\n",
    "from math import *\n",
    "import random"
   ]
  },
  {
   "cell_type": "code",
   "execution_count": 2,
   "metadata": {
    "collapsed": true,
    "deletable": true,
    "editable": true
   },
   "outputs": [],
   "source": [
    "with open('malha1_re7500', 'w') as res, open('60_60_362_re7500_RANS_periodic') as f1,open('60_60_362_re7500_LES_periodic') as f2:\n",
    "    for line1, line2 in zip(f1, f2):\n",
    "        res.write(\"{} {}\\n\".format(line1.rstrip(), line2.rstrip()))"
   ]
  },
  {
   "cell_type": "code",
   "execution_count": 3,
   "metadata": {
    "collapsed": false,
    "deletable": true,
    "editable": true
   },
   "outputs": [],
   "source": [
    "with open('malha1_re7500', \"r\") as f:\n",
    "    linesf = random.sample(f.readlines(),1000)\n",
    "for line in linesf:\n",
    "    cleanedLine = line.strip()\n",
    "    if cleanedLine: # is not empty\n",
    "        file=np.loadtxt(linesf,comments=\"#\")"
   ]
  },
  {
   "cell_type": "code",
   "execution_count": 4,
   "metadata": {
    "collapsed": false,
    "deletable": true,
    "editable": true
   },
   "outputs": [],
   "source": [
    "SMALL=1e-20\n",
    "Position=np.array((file[:,1],file[:,2],file[:,3])).transpose()\n",
    "Vel=np.array((file[:,5],file[:,6],file[:,7])).transpose()\n",
    "P=file[:,4]\n",
    "GradVel=np.transpose(np.array([[file[:,17],file[:,18],file[:,19]],\n",
    "                  [file[:,20],file[:,22],file[:,21]],\n",
    "                  [file[:,23],file[:,24],file[:,25]]]),(2,0,1))\n",
    "DivVel = np.array((file[:,17],file[:,22],file[:,25])).transpose()\n",
    "GradP = np.array((file[:,26],file[:,27],file[:,28])).transpose()\n",
    "HessP = np.transpose(np.array([[file[:,17],file[:,18],file[:,19]],\n",
    "                [file[:,20],file[:,21],file[:,22]],\n",
    "                [file[:,23],file[:,24],file[:,25]]]),(2,0,1))\n",
    "ReStress=np.transpose(np.array([[file[:,8],file[:,11],file[:,13]],\n",
    "                   [file[:,11],file[:,9],file[:,12]],\n",
    "                   [file[:,13],file[:,12],file[:,10]]]),(2,0,1))\n",
    "K=file[:,14]\n",
    "Eps=file[:,15]\n",
    "TurbVisc=file[:,16]\n",
    "D=GradVel+np.transpose(GradVel,(0,2,1))\n",
    "W=GradVel-np.transpose(GradVel,(0,2,1))\n",
    "VortVec=np.array((W[:,2,1],W[:,0,2],W[:,1,0])).transpose()\n",
    "DDT=np.einsum('abc,ace->abe', D, np.transpose(D,(0,2,1)))\n",
    "Dnorm=np.sqrt(np.trace(DDT,axis1=1,axis2=2))\n",
    "WWT=np.einsum('vux,vxz->vuz', W, np.transpose(W,(0,2,1)))\n",
    "Wnorm=np.sqrt(np.trace(WWT,axis1=1,axis2=2))\n",
    "DD=np.einsum('abc,ace->abe', D, D)\n",
    "WW=np.einsum('vux,vxz->vuz', W, W)\n",
    "ReStReStT=np.einsum('vux,vxz->vuz', ReStress, np.transpose(ReStress,(0,2,1)))\n",
    "ReStnorm=np.sqrt(np.trace(ReStReStT,axis1=1,axis2=2))\n",
    "VeldPdx=np.einsum('ab,ab->a', Vel, GradP)\n",
    "dPdx2Vel2=np.einsum('xy,xv->x', np.power(GradP,2), np.power(Vel,2))\n",
    "L_turb=np.power(K,1.5)/(Eps+SMALL) #integral lenght scale\n",
    "Vort_jGrad_ij=np.einsum('vu,vyu->vyu', VortVec, GradVel)\n",
    "Vort_jGrad_ijVort_kGradik=np.sum(np.triu(np.einsum('vuy,vuw->vuyw', Vort_jGrad_ij, Vort_jGrad_ij),0),axis=(1,2,3))\n",
    "U_jGrad_ij=np.einsum('vu,vyu->vyu', Vel, GradVel)\n",
    "U_iU_jGrad_ij=np.einsum('vu,vuy->v', Vel, U_jGrad_ij)\n",
    "U_jGrad_ijU_kGradik=np.triu(np.einsum('vuy,vuw->vuyw', U_jGrad_ij, U_jGrad_ij),0)\n",
    "UnUnU_jGrad_ijU_kGradik=np.einsum('vu,vyxw->v', (np.power(Vel,2)), U_jGrad_ijU_kGradik)\n",
    "ReSt_ijDij=np.sum(np.triu(np.einsum('vux,vux->vux', ReStress, D)),axis=(1,2))"
   ]
  },
  {
   "cell_type": "code",
   "execution_count": 5,
   "metadata": {
    "collapsed": false,
    "deletable": true,
    "editable": true
   },
   "outputs": [],
   "source": [
    "# Non-dimensionalized Q criterion\n",
    "Q=((1/(pi))*np.arccos((np.power(Wnorm,2)-(np.power(Dnorm,2)))/(np.power(Wnorm,2)+(np.power(Dnorm,2)))))\n",
    "# Turbulence intensity\n",
    "kTurbNorm=K/(0.5*(np.einsum('ab,ab->a', Vel, Vel))+K+SMALL)\n",
    "# Turbulence Reynolds number\n",
    "LamVisc=0.001\n",
    "Dens=1\n",
    "dturb=1\n",
    "ReTurb=np.minimum(((np.sqrt(K)*L_turb)/(50*LamVisc)),2.)\n",
    "# Pressure gradient along streamline\n",
    "PgradSL=VeldPdx/(np.sqrt(dPdx2Vel2)+np.abs(VeldPdx)+SMALL)\n",
    "# Ratio of turbulent time scale to mean strain time scale\n",
    "TurbTimeScale_StrainTimeScale=(Dnorm*K)/(Dnorm*K+Eps+SMALL)\n",
    "# Viscosity ratio\n",
    "ViscRatio=TurbVisc/(100*LamVisc+TurbVisc+SMALL)\n",
    "# Ratio of pressure normal stresses to normal shear stresses\n",
    "PressNormalStress_NormalShearStress=(np.sqrt(np.einsum('ab,ab->a', GradP, GradP)))/\\\n",
    "(np.sqrt(np.einsum('ab,ab->a', GradP, GradP))+0.5*Dens*(np.einsum('ab,ab->a', DivVel, DivVel))+SMALL)\n",
    "# Vortex stretching\n",
    "VortexStretch=np.sqrt(Vort_jGrad_ijVort_kGradik)/(np.sqrt(Vort_jGrad_ijVort_kGradik)+Dnorm+SMALL)\n",
    "#Marker of Gorle et al deviation from parallel shear flow\n",
    "GorlePar=np.abs(U_iU_jGrad_ij)/(np.sqrt(UnUnU_jGrad_ijU_kGradik)+np.abs(U_iU_jGrad_ij)+SMALL)\n",
    "#Ratio of convection to production of k\n",
    "#Ratio of total Reynolds stresses to normal Reynolds stresses\n",
    "ReSt_Total_Normal=ReStnorm/(K+ReStnorm)\n",
    "#Cubic eddy viscosity comparison"
   ]
  },
  {
   "cell_type": "code",
   "execution_count": 6,
   "metadata": {
    "collapsed": false,
    "deletable": true,
    "editable": true
   },
   "outputs": [],
   "source": [
    "PositionLES=np.array((file[:,30],file[:,31],file[:,32])).transpose()\n",
    "GradVelLES=np.transpose(np.array([[file[:,17],file[:,18],file[:,19]],\n",
    "                                  [file[:,20],file[:,22],file[:,21]],\n",
    "                                  [file[:,23],file[:,24],file[:,25]]]),(2,0,1))\n",
    "ReStressLES=np.transpose(np.array([[file[:,33],file[:,34],file[:,35]],\n",
    "                                   [file[:,34],file[:,36],file[:,37]],\n",
    "                                   [file[:,35],file[:,37],file[:,38]]]),(2,0,1))\n",
    "K_LES=0.5*np.einsum('aii', ReStressLES)\n",
    "ReStressLES=ReStressLES-2/3*np.einsum('a,aij->aij',K_LES,np.tril(np.triu(np.ones((ReStressLES.shape[0],3,3)),0),0))\n",
    "DLES=GradVelLES+np.transpose(GradVelLES,(0,2,1))\n",
    "WLES=GradVel-np.transpose(GradVelLES,(0,2,1))\n",
    "Anisotropy=(ReStressLES-2/3*np.einsum('a,aij->aij',K_LES,np.tril(np.triu(np.ones((ReStressLES.shape[0],3,3)),0),0)))\n",
    "Anisotropy=np.einsum('a,aij->aij',np.power(K_LES,-1),Anisotropy)\n",
    "AnisoAniso=np.einsum('abc,ace->abe', Anisotropy, Anisotropy)\n",
    "ReStressD=-1*np.einsum('abc,abc->abc', GradVelLES, DLES)\n",
    "KD_LES=(2/3)*np.einsum('a,aij->aij',K_LES,np.tril(np.triu(np.ones((DLES.shape[0],3,3)),0),0))\n",
    "KD_LES=np.einsum('aij,aij->aij',KD_LES,D)"
   ]
  },
  {
   "cell_type": "code",
   "execution_count": 7,
   "metadata": {
    "collapsed": false,
    "deletable": true,
    "editable": true
   },
   "outputs": [],
   "source": [
    "#Negative eddy viscosity error metric\n",
    "nu_Turb_LES=ReStressD+KD_LES\n",
    "nu_Turb_LES=np.einsum('aii', nu_Turb_LES)/(2*np.einsum('aij,aij->a', D,D)+SMALL)\n",
    "condlistI=[nu_Turb_LES<0, nu_Turb_LES>=0]\n",
    "choicelistI = [1, 0]\n",
    "nu_Turb_LES_bin=np.select(condlistI, choicelistI)\n",
    "#Anisotropy error metric\n",
    "II_anisotensor=0.5*np.power(np.trace(Anisotropy,axis1=1,axis2=2),2)-np.trace(AnisoAniso,axis1=1,axis2=2)\n",
    "condlistII=[-2*II_anisotensor>(1/6), -2*II_anisotensor<=(1/6)]\n",
    "choicelistII = [1, 0]\n",
    "II_anisotensor_bin=np.select(condlistII, choicelistII)"
   ]
  },
  {
   "cell_type": "code",
   "execution_count": 8,
   "metadata": {
    "collapsed": false,
    "deletable": true,
    "editable": true
   },
   "outputs": [],
   "source": [
    "with open('malha1_re7500_dados_processados', 'w') as res:\n",
    "    for l1,line in enumerate(file):\n",
    "        res.write(\"{} {} {} {} {} {} {} {} {} {} {} {}\\n\".format(Q[l1],kTurbNorm[l1],ReTurb[l1],PgradSL[l1],\\\n",
    "                                                                 TurbTimeScale_StrainTimeScale[l1],ViscRatio[l1],\\\n",
    "                                                                 PressNormalStress_NormalShearStress[l1],VortexStretch[l1],\\\n",
    "                                                                 GorlePar[l1],ReSt_Total_Normal[l1],nu_Turb_LES_bin[l1],\\\n",
    "                                                                 II_anisotensor_bin[l1]))"
   ]
  },
  {
   "cell_type": "code",
   "execution_count": null,
   "metadata": {
    "collapsed": true,
    "deletable": true,
    "editable": true
   },
   "outputs": [],
   "source": []
  }
 ],
 "metadata": {
  "anaconda-cloud": {},
  "kernelspec": {
   "display_name": "Python [default]",
   "language": "python",
   "name": "python3"
  },
  "language_info": {
   "codemirror_mode": {
    "name": "ipython",
    "version": 3
   },
   "file_extension": ".py",
   "mimetype": "text/x-python",
   "name": "python",
   "nbconvert_exporter": "python",
   "pygments_lexer": "ipython3",
   "version": "3.5.3"
  }
 },
 "nbformat": 4,
 "nbformat_minor": 2
}
