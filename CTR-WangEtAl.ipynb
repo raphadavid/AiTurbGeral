{
 "cells": [
  {
   "cell_type": "code",
   "execution_count": 63,
   "metadata": {
    "collapsed": true,
    "deletable": true,
    "editable": true
   },
   "outputs": [],
   "source": [
    "import struct\n",
    "import numpy as np\n",
    "from numpy import linalg as LA\n",
    "import matplotlib.pyplot as plt\n",
    "import math\n",
    "data = open(\"statistics_03500_repo.bin\", \"rb\").read()"
   ]
  },
  {
   "cell_type": "code",
   "execution_count": 64,
   "metadata": {
    "collapsed": true,
    "deletable": true,
    "editable": true
   },
   "outputs": [],
   "source": [
    "#Leitura de parâmetros gerais\n",
    "(my,mz,ubulk,utau,fnu,tstat)=struct.unpack(\"iidddd\", data[:40])"
   ]
  },
  {
   "cell_type": "code",
   "execution_count": 65,
   "metadata": {
    "collapsed": true,
    "deletable": true,
    "editable": true
   },
   "outputs": [],
   "source": [
    "#Leitura de coordenadas\n",
    "n=my*8+40\n",
    "y=struct.unpack(\"d\"*my, data[40:n])\n",
    "m=n\n",
    "n+=mz*8\n",
    "z=struct.unpack(\"d\"*mz, data[m:n])"
   ]
  },
  {
   "cell_type": "code",
   "execution_count": 66,
   "metadata": {
    "collapsed": true,
    "deletable": true,
    "editable": true
   },
   "outputs": [],
   "source": [
    "#Leitura das velocidades médias\n",
    "m=n\n",
    "n+=my*mz*8\n",
    "um=struct.unpack(\"d\"*my*mz, data[m:n])\n",
    "um=np.reshape(um,(my,mz))\n",
    "m=n\n",
    "n+=my*mz*8\n",
    "vm=struct.unpack(\"d\"*my*mz, data[m:n])\n",
    "vm=np.reshape(vm,(my,mz))\n",
    "m=n\n",
    "n+=my*mz*8\n",
    "wm=struct.unpack(\"d\"*my*mz, data[m:n])\n",
    "wm=np.reshape(wm,(my,mz))"
   ]
  },
  {
   "cell_type": "code",
   "execution_count": 67,
   "metadata": {
    "collapsed": true,
    "deletable": true,
    "editable": true
   },
   "outputs": [],
   "source": [
    "#Leitura dos termos do tensor de Reynolds\n",
    "m=n\n",
    "n+=my*mz*8\n",
    "uu=struct.unpack(\"d\"*my*mz, data[m:n])\n",
    "uu=np.reshape(uu,(my,mz))\n",
    "m=n\n",
    "n+=my*mz*8\n",
    "uv=struct.unpack(\"d\"*my*mz, data[m:n])\n",
    "uv=np.reshape(uv,(my,mz))\n",
    "m=n\n",
    "n+=my*mz*8\n",
    "uw=struct.unpack(\"d\"*my*mz, data[m:n])\n",
    "uw=np.reshape(uw,(my,mz))\n",
    "m=n\n",
    "n+=my*mz*8\n",
    "vv=struct.unpack(\"d\"*my*mz, data[m:n])\n",
    "vv=np.reshape(vv,(my,mz))\n",
    "m=n\n",
    "n+=my*mz*8\n",
    "vw=struct.unpack(\"d\"*my*mz, data[m:n])\n",
    "vw=np.reshape(vw,(my,mz))\n",
    "m=n\n",
    "n+=my*mz*8\n",
    "ww=struct.unpack(\"d\"*my*mz, data[m:n])\n",
    "ww=np.reshape(ww,(my,mz))"
   ]
  },
  {
   "cell_type": "code",
   "execution_count": 68,
   "metadata": {
    "collapsed": false,
    "deletable": true,
    "editable": true
   },
   "outputs": [],
   "source": [
    "ReStress=np.array([[uu,uv,uw],[uv,vv,vw],[uw,vw,ww]])\n",
    "VelMedia=np.array([um,vm,wm])\n",
    "ReStress=np.transpose(ReStress,(2,3,0,1))\n",
    "VelMedia=np.transpose(VelMedia,(1,2,0))"
   ]
  },
  {
   "cell_type": "code",
   "execution_count": 89,
   "metadata": {
    "collapsed": false,
    "deletable": true,
    "editable": true
   },
   "outputs": [],
   "source": [
    "def AnisotropyTensor(x):\n",
    "    k=(np.trace(x,axis1=2,axis2=3)/2)\n",
    "    a=np.divide(x,2*k[:,:,np.newaxis,np.newaxis])-((1/3)*np.eye(3))\n",
    "    alambda,aEpsilon = LA.eig(a)\n",
    "    II=alambda[:,:,0]*alambda[:,:,0]+alambda[:,:,1]*alambda[:,:,1]+alambda[:,:,0]*alambda[:,:,1]\n",
    "    III=-alambda[:,:,0]*alambda[:,:,1]*(alambda[:,:,0]+alambda[:,:,1])\n",
    "    epsilon=np.power(np.abs(III/2),1/3)* np.sign(III/2)\n",
    "    eta=np.sqrt(II/3)\n",
    "    xb=alambda[:,:,0]-alambda[:,:,1]+(3/2)*alambda[:,:,2]+(1/2)\n",
    "    yb=(np.sqrt(3)/2)*(3*alambda[:,:,2]+1)\n",
    "    return a,k,alambda,aEpsilon,III,II,epsilon,eta,xb,yb\n",
    "def EulerAngles(x,string):\n",
    "    #euler angles \"x-convection\" based on cartesian local system\n",
    "    SMALL=1e-16\n",
    "    #Xl = Z1 x Z\n",
    "    #normalizing\n",
    "    x=np.einsum('ijkl,ijl->ijkl',x,1/LA.norm(x,axis=2))\n",
    "    #x=np.array([[x[0,0]/LA.norm(x[:,0]),x[0,1]/LA.norm(x[:,1]),x[0,2]/LA.norm(x[:,2])],\n",
    "    #            [x[1,0]/LA.norm(x[:,0]),x[1,1]/LA.norm(x[:,1]),x[1,2]/LA.norm(x[:,2])],\n",
    "    #            [x[2,0]/LA.norm(x[:,0]),x[2,1]/LA.norm(x[:,1]),x[2,2]/LA.norm(x[:,2])]])\n",
    "    Xl=np.array([x[:,:,1,2],-x[:,:,0,2],0*x[:,:,2,2]])\n",
    "    Xl=np.transpose(Xl,(1,2,0))\n",
    "    #X1’x = X’·X1 = X’x ·X1x + X’y ·X1y + X’z ·X1z = Z1y ·X1x – Z1x ·X1y\n",
    "    X1lx=np.einsum('ijk,ijk->ij', Xl, x[:,:,:,0])\n",
    "    X1ly=np.einsum('ijk,ijk->ij', Xl, x[:,:,:,1])\n",
    "    Z1xy=np.array([x[:,:,0,2],x[:,:,1,2],0*x[:,:,1,2]])\n",
    "    Z1xy=np.transpose(Z1xy,(1,2,0))\n",
    "    Z1xy=LA.norm(Z1xy,axis=2)\n",
    "    angles=np.where(Z1xy>SMALL,\n",
    "    np.array([np.arctan2(X1ly, X1lx),np.arctan2(Z1xy,x[:,:,2,2]),-1.*np.arctan2(-x[:,:,0,2],x[:,:,1,2])]),\n",
    "    np.array([0*np.arctan2(X1ly, X1lx),np.where(np.abs(x[:,:,2,2])>SMALL),-1.*np.arctan2(X1ly, X1lx)]))\n",
    "    if Z1xy>SMALL:\n",
    "        alpha=np.arctan2(X1ly, X1lx)\n",
    "        beta=np.arctan2(Z1xy,x[:,:,2,2])\n",
    "        gamma=-1.*np.arctan2(-x[:,:,0,2],x[:,:,1,2])\n",
    "    else:\n",
    "        alpha=0.\n",
    "        if np.abs(x[:,:,2,2])>SMALL:\n",
    "            beta=0.\n",
    "        else:\n",
    "            beta=np.pi\n",
    "        gamma=-1.*np.arctan2(X1ly, X1lx)\n",
    "    if string=='graus':\n",
    "        return np.array([alpha,beta,gamma])*360/(2*np.pi)\n",
    "    else:\n",
    "        return np.array([alpha,beta,gamma])\n",
    "def EulerInverse(alfa,beta,gamma,base):\n",
    "    A=np.array([[np.cos(alfa),np.sin(alfa),0],[-np.sin(alfa),np.cos(alfa),0],[0,0,1]])\n",
    "    B=np.array([[1,0,0],[0,np.cos(beta),np.sin(beta)],[0,-np.sin(beta),np.cos(beta)]])\n",
    "    C=np.array([[np.cos(gamma),np.sin(gamma),0],[-np.sin(gamma),np.cos(gamma),0],[0,0,1]])\n",
    "    CB=np.einsum('ij,jk->ik', C, B)\n",
    "    CBA=np.einsum('ij,jk->ik', CB, A)\n",
    "    QBase=np.einsum('ij,jk->ik', CBA, base)\n",
    "    return QBase"
   ]
  },
  {
   "cell_type": "code",
   "execution_count": 90,
   "metadata": {
    "collapsed": false,
    "deletable": true,
    "editable": true
   },
   "outputs": [
    {
     "ename": "ValueError",
     "evalue": "The truth value of an array with more than one element is ambiguous. Use a.any() or a.all()",
     "output_type": "error",
     "traceback": [
      "\u001b[0;31m---------------------------------------------------------------------------\u001b[0m",
      "\u001b[0;31mValueError\u001b[0m                                Traceback (most recent call last)",
      "\u001b[0;32m<ipython-input-90-bd0857b7255a>\u001b[0m in \u001b[0;36m<module>\u001b[0;34m()\u001b[0m\n\u001b[0;32m----> 1\u001b[0;31m \u001b[0mEulerAngles\u001b[0m\u001b[0;34m(\u001b[0m\u001b[0mAnisotropyTensor\u001b[0m\u001b[0;34m(\u001b[0m\u001b[0mReStress\u001b[0m\u001b[0;34m[\u001b[0m\u001b[0;34m:\u001b[0m\u001b[0;36m2\u001b[0m\u001b[0;34m,\u001b[0m\u001b[0;34m:\u001b[0m\u001b[0;36m2\u001b[0m\u001b[0;34m,\u001b[0m\u001b[0;34m:\u001b[0m\u001b[0;34m,\u001b[0m\u001b[0;34m:\u001b[0m\u001b[0;34m]\u001b[0m\u001b[0;34m)\u001b[0m\u001b[0;34m[\u001b[0m\u001b[0;36m3\u001b[0m\u001b[0;34m]\u001b[0m\u001b[0;34m,\u001b[0m\u001b[0;34m'rad'\u001b[0m\u001b[0;34m)\u001b[0m\u001b[0;34m\u001b[0m\u001b[0m\n\u001b[0m",
      "\u001b[0;32m<ipython-input-89-a3b7aafc68a0>\u001b[0m in \u001b[0;36mEulerAngles\u001b[0;34m(x, string)\u001b[0m\n\u001b[1;32m     27\u001b[0m     \u001b[0mZ1xy\u001b[0m\u001b[0;34m=\u001b[0m\u001b[0mnp\u001b[0m\u001b[0;34m.\u001b[0m\u001b[0mtranspose\u001b[0m\u001b[0;34m(\u001b[0m\u001b[0mZ1xy\u001b[0m\u001b[0;34m,\u001b[0m\u001b[0;34m(\u001b[0m\u001b[0;36m1\u001b[0m\u001b[0;34m,\u001b[0m\u001b[0;36m2\u001b[0m\u001b[0;34m,\u001b[0m\u001b[0;36m0\u001b[0m\u001b[0;34m)\u001b[0m\u001b[0;34m)\u001b[0m\u001b[0;34m\u001b[0m\u001b[0m\n\u001b[1;32m     28\u001b[0m     \u001b[0mZ1xy\u001b[0m\u001b[0;34m=\u001b[0m\u001b[0mLA\u001b[0m\u001b[0;34m.\u001b[0m\u001b[0mnorm\u001b[0m\u001b[0;34m(\u001b[0m\u001b[0mZ1xy\u001b[0m\u001b[0;34m,\u001b[0m\u001b[0maxis\u001b[0m\u001b[0;34m=\u001b[0m\u001b[0;36m2\u001b[0m\u001b[0;34m)\u001b[0m\u001b[0;34m\u001b[0m\u001b[0m\n\u001b[0;32m---> 29\u001b[0;31m     \u001b[0;32mif\u001b[0m \u001b[0mZ1xy\u001b[0m\u001b[0;34m>\u001b[0m\u001b[0mSMALL\u001b[0m\u001b[0;34m:\u001b[0m\u001b[0;34m\u001b[0m\u001b[0m\n\u001b[0m\u001b[1;32m     30\u001b[0m         \u001b[0malpha\u001b[0m\u001b[0;34m=\u001b[0m\u001b[0mnp\u001b[0m\u001b[0;34m.\u001b[0m\u001b[0marctan2\u001b[0m\u001b[0;34m(\u001b[0m\u001b[0mX1ly\u001b[0m\u001b[0;34m,\u001b[0m \u001b[0mX1lx\u001b[0m\u001b[0;34m)\u001b[0m\u001b[0;34m\u001b[0m\u001b[0m\n\u001b[1;32m     31\u001b[0m         \u001b[0mbeta\u001b[0m\u001b[0;34m=\u001b[0m\u001b[0mnp\u001b[0m\u001b[0;34m.\u001b[0m\u001b[0marctan2\u001b[0m\u001b[0;34m(\u001b[0m\u001b[0mZ1xy\u001b[0m\u001b[0;34m,\u001b[0m\u001b[0mx\u001b[0m\u001b[0;34m[\u001b[0m\u001b[0;34m:\u001b[0m\u001b[0;34m,\u001b[0m\u001b[0;34m:\u001b[0m\u001b[0;34m,\u001b[0m\u001b[0;36m2\u001b[0m\u001b[0;34m,\u001b[0m\u001b[0;36m2\u001b[0m\u001b[0;34m]\u001b[0m\u001b[0;34m)\u001b[0m\u001b[0;34m\u001b[0m\u001b[0m\n",
      "\u001b[0;31mValueError\u001b[0m: The truth value of an array with more than one element is ambiguous. Use a.any() or a.all()"
     ]
    }
   ],
   "source": [
    "EulerAngles(AnisotropyTensor(ReStress[:2,:2,:,:])[3],'rad')"
   ]
  },
  {
   "cell_type": "code",
   "execution_count": null,
   "metadata": {
    "collapsed": true
   },
   "outputs": [],
   "source": []
  }
 ],
 "metadata": {
  "anaconda-cloud": {},
  "kernelspec": {
   "display_name": "Python [conda root]",
   "language": "python",
   "name": "conda-root-py"
  },
  "language_info": {
   "codemirror_mode": {
    "name": "ipython",
    "version": 3
   },
   "file_extension": ".py",
   "mimetype": "text/x-python",
   "name": "python",
   "nbconvert_exporter": "python",
   "pygments_lexer": "ipython3",
   "version": "3.5.3"
  }
 },
 "nbformat": 4,
 "nbformat_minor": 2
}
