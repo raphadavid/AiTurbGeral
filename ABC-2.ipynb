{
 "cells": [
  {
   "cell_type": "code",
   "execution_count": 35,
   "metadata": {
    "collapsed": false
   },
   "outputs": [],
   "source": [
    "from sympy import *\n",
    "init_printing()"
   ]
  },
  {
   "cell_type": "code",
   "execution_count": 36,
   "metadata": {
    "collapsed": false
   },
   "outputs": [],
   "source": [
    "x,y,z = symbols('x y z')\n",
    "A=10\n",
    "B=20\n",
    "C=30"
   ]
  },
  {
   "cell_type": "code",
   "execution_count": 25,
   "metadata": {
    "collapsed": false
   },
   "outputs": [],
   "source": [
    "vvec=[(A*sin(R[2])+C*cos(R[1])),(B*sin(R[0])+A*cos(R[2])),(C*sin(R[1])+B*cos(R[0]))]"
   ]
  },
  {
   "cell_type": "code",
   "execution_count": 26,
   "metadata": {
    "collapsed": false
   },
   "outputs": [],
   "source": [
    "def f(i,j):\n",
    "    return diff(vvec[i],R[j])"
   ]
  },
  {
   "cell_type": "code",
   "execution_count": 27,
   "metadata": {
    "collapsed": false
   },
   "outputs": [],
   "source": [
    "gradVel=Matrix(3,3,f)\n",
    "D=gradVel+gradVel.T\n",
    "W=gradVel-gradVel.T"
   ]
  },
  {
   "cell_type": "code",
   "execution_count": 28,
   "metadata": {
    "collapsed": false
   },
   "outputs": [
    {
     "data": {
      "text/latex": [
       "$$\\left[\\begin{matrix}0 & - 30 \\sin{\\left (R_{y} \\right )} + 20 \\cos{\\left (R_{x} \\right )} & - 20 \\sin{\\left (R_{x} \\right )} + 10 \\cos{\\left (R_{z} \\right )}\\\\- 30 \\sin{\\left (R_{y} \\right )} + 20 \\cos{\\left (R_{x} \\right )} & 0 & - 10 \\sin{\\left (R_{z} \\right )} + 30 \\cos{\\left (R_{y} \\right )}\\\\- 20 \\sin{\\left (R_{x} \\right )} + 10 \\cos{\\left (R_{z} \\right )} & - 10 \\sin{\\left (R_{z} \\right )} + 30 \\cos{\\left (R_{y} \\right )} & 0\\end{matrix}\\right]$$"
      ],
      "text/plain": [
       "⎡            0              -30⋅sin(R_y) + 20⋅cos(Rₓ)   -20⋅sin(Rₓ) + 10⋅cos(R\n",
       "⎢                                                                             \n",
       "⎢-30⋅sin(R_y) + 20⋅cos(Rₓ)              0               -10⋅sin(R_z) + 30⋅cos(\n",
       "⎢                                                                             \n",
       "⎣-20⋅sin(Rₓ) + 10⋅cos(R_z)  -10⋅sin(R_z) + 30⋅cos(R_y)              0         \n",
       "\n",
       "_z) ⎤\n",
       "    ⎥\n",
       "R_y)⎥\n",
       "    ⎥\n",
       "    ⎦"
      ]
     },
     "execution_count": 28,
     "metadata": {},
     "output_type": "execute_result"
    }
   ],
   "source": [
    "D"
   ]
  },
  {
   "cell_type": "code",
   "execution_count": 29,
   "metadata": {
    "collapsed": false
   },
   "outputs": [
    {
     "data": {
      "text/latex": [
       "$$\\left[\\begin{matrix}0 & - 30 \\sin{\\left (R_{y} \\right )} - 20 \\cos{\\left (R_{x} \\right )} & 20 \\sin{\\left (R_{x} \\right )} + 10 \\cos{\\left (R_{z} \\right )}\\\\30 \\sin{\\left (R_{y} \\right )} + 20 \\cos{\\left (R_{x} \\right )} & 0 & - 10 \\sin{\\left (R_{z} \\right )} - 30 \\cos{\\left (R_{y} \\right )}\\\\- 20 \\sin{\\left (R_{x} \\right )} - 10 \\cos{\\left (R_{z} \\right )} & 10 \\sin{\\left (R_{z} \\right )} + 30 \\cos{\\left (R_{y} \\right )} & 0\\end{matrix}\\right]$$"
      ],
      "text/plain": [
       "⎡            0              -30⋅sin(R_y) - 20⋅cos(Rₓ)   20⋅sin(Rₓ) + 10⋅cos(R_\n",
       "⎢                                                                             \n",
       "⎢30⋅sin(R_y) + 20⋅cos(Rₓ)               0              -10⋅sin(R_z) - 30⋅cos(R\n",
       "⎢                                                                             \n",
       "⎣-20⋅sin(Rₓ) - 10⋅cos(R_z)  10⋅sin(R_z) + 30⋅cos(R_y)              0          \n",
       "\n",
       "z) ⎤\n",
       "   ⎥\n",
       "_y)⎥\n",
       "   ⎥\n",
       "   ⎦"
      ]
     },
     "execution_count": 29,
     "metadata": {},
     "output_type": "execute_result"
    }
   ],
   "source": [
    "W"
   ]
  },
  {
   "cell_type": "code",
   "execution_count": 30,
   "metadata": {
    "collapsed": false
   },
   "outputs": [
    {
     "data": {
      "text/latex": [
       "$$\\left[\\begin{matrix}- \\frac{- 10 \\sin{\\left (R_{z} \\right )} + 30 \\cos{\\left (R_{y} \\right )}}{2 \\left(- 20 \\sin{\\left (R_{x} \\right )} + 10 \\cos{\\left (R_{z} \\right )}\\right) \\left(- 30 \\sin{\\left (R_{y} \\right )} + 20 \\cos{\\left (R_{x} \\right )}\\right)} & \\frac{1}{- 60 \\sin{\\left (R_{y} \\right )} + 40 \\cos{\\left (R_{x} \\right )}} & \\frac{1}{- 40 \\sin{\\left (R_{x} \\right )} + 20 \\cos{\\left (R_{z} \\right )}}\\\\\\frac{1}{- 60 \\sin{\\left (R_{y} \\right )} + 40 \\cos{\\left (R_{x} \\right )}} & - \\frac{- 20 \\sin{\\left (R_{x} \\right )} + 10 \\cos{\\left (R_{z} \\right )}}{2 \\left(- 30 \\sin{\\left (R_{y} \\right )} + 20 \\cos{\\left (R_{x} \\right )}\\right) \\left(- 10 \\sin{\\left (R_{z} \\right )} + 30 \\cos{\\left (R_{y} \\right )}\\right)} & \\frac{1}{- 20 \\sin{\\left (R_{z} \\right )} + 60 \\cos{\\left (R_{y} \\right )}}\\\\\\frac{1}{- 40 \\sin{\\left (R_{x} \\right )} + 20 \\cos{\\left (R_{z} \\right )}} & \\frac{1}{- 20 \\sin{\\left (R_{z} \\right )} + 60 \\cos{\\left (R_{y} \\right )}} & - \\frac{- 30 \\sin{\\left (R_{y} \\right )} + 20 \\cos{\\left (R_{x} \\right )}}{2 \\left(- 20 \\sin{\\left (R_{x} \\right )} + 10 \\cos{\\left (R_{z} \\right )}\\right) \\left(- 10 \\sin{\\left (R_{z} \\right )} + 30 \\cos{\\left (R_{y} \\right )}\\right)}\\end{matrix}\\right]$$"
      ],
      "text/plain": [
       "⎡              -(-10⋅sin(R_z) + 30⋅cos(R_y))                                  \n",
       "⎢─────────────────────────────────────────────────────────                ────\n",
       "⎢2⋅(-20⋅sin(Rₓ) + 10⋅cos(R_z))⋅(-30⋅sin(R_y) + 20⋅cos(Rₓ))                2⋅(-\n",
       "⎢                                                                             \n",
       "⎢                            1                                            -(-2\n",
       "⎢              ─────────────────────────────                ──────────────────\n",
       "⎢              2⋅(-30⋅sin(R_y) + 20⋅cos(Rₓ))                2⋅(-30⋅sin(R_y) + \n",
       "⎢                                                                             \n",
       "⎢                            1                                                \n",
       "⎢              ─────────────────────────────                              ────\n",
       "⎣              2⋅(-20⋅sin(Rₓ) + 10⋅cos(R_z))                              2⋅(-\n",
       "\n",
       "          1                                                           1       \n",
       "─────────────────────────                               ──────────────────────\n",
       "30⋅sin(R_y) + 20⋅cos(Rₓ))                               2⋅(-20⋅sin(Rₓ) + 10⋅co\n",
       "                                                                              \n",
       "0⋅sin(Rₓ) + 10⋅cos(R_z))                                              1       \n",
       "────────────────────────────────────────                ──────────────────────\n",
       "20⋅cos(Rₓ))⋅(-10⋅sin(R_z) + 30⋅cos(R_y))                2⋅(-10⋅sin(R_z) + 30⋅c\n",
       "                                                                              \n",
       "          1                                             -(-30⋅sin(R_y) + 20⋅co\n",
       "──────────────────────────                ────────────────────────────────────\n",
       "10⋅sin(R_z) + 30⋅cos(R_y))                2⋅(-20⋅sin(Rₓ) + 10⋅cos(R_z))⋅(-10⋅s\n",
       "\n",
       "                      ⎤\n",
       "───────               ⎥\n",
       "s(R_z))               ⎥\n",
       "                      ⎥\n",
       "                      ⎥\n",
       "────────              ⎥\n",
       "os(R_y))              ⎥\n",
       "                      ⎥\n",
       "s(Rₓ))                ⎥\n",
       "──────────────────────⎥\n",
       "in(R_z) + 30⋅cos(R_y))⎦"
      ]
     },
     "execution_count": 30,
     "metadata": {},
     "output_type": "execute_result"
    }
   ],
   "source": [
    "D.inv(method=\"LU\")"
   ]
  },
  {
   "cell_type": "code",
   "execution_count": 32,
   "metadata": {
    "collapsed": false
   },
   "outputs": [
    {
     "data": {
      "image/png": "[encoded data removed]",
      "text/latex": [
       "$$\\left \\{ \\right \\}$$"
      ],
      "text/plain": [
       "{}"
      ]
     },
     "execution_count": 32,
     "metadata": {},
     "output_type": "execute_result"
    }
   ],
   "source": [
    "D.eigenvals()"
   ]
  },
  {
   "cell_type": "code",
   "execution_count": null,
   "metadata": {
    "collapsed": true
   },
   "outputs": [],
   "source": []
  }
 ],
 "metadata": {
  "anaconda-cloud": {},
  "kernelspec": {
   "display_name": "Python [conda root]",
   "language": "python",
   "name": "conda-root-py"
  },
  "language_info": {
   "codemirror_mode": {
    "name": "ipython",
    "version": 3
   },
   "file_extension": ".py",
   "mimetype": "text/x-python",
   "name": "python",
   "nbconvert_exporter": "python",
   "pygments_lexer": "ipython3",
   "version": "3.5.2"
  }
 },
 "nbformat": 4,
 "nbformat_minor": 2
}
